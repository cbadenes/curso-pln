{
  "cells": [
    {
      "cell_type": "markdown",
      "metadata": {
        "id": "view-in-github",
        "colab_type": "text"
      },
      "source": [
        "<a href=\"https://colab.research.google.com/github/cbadenes/curso-pln/blob/main/notebooks/04_Extensiones_LDA.ipynb\" target=\"_parent\"><img src=\"https://colab.research.google.com/assets/colab-badge.svg\" alt=\"Open In Colab\"/></a>"
      ]
    },
    {
      "cell_type": "markdown",
      "metadata": {
        "id": "ebFZnbzaURA9"
      },
      "source": [
        "#1)  Instalación y dependencias"
      ]
    },
    {
      "cell_type": "code",
      "execution_count": 1,
      "metadata": {
        "colab": {
          "base_uri": "https://localhost:8080/"
        },
        "id": "kzWAIBHtUOBD",
        "outputId": "6b0c9f58-c0cb-48e6-f672-145c693985ba"
      },
      "outputs": [
        {
          "output_type": "stream",
          "name": "stdout",
          "text": [
            "Requirement already satisfied: tomotopy in /usr/local/lib/python3.11/dist-packages (0.13.0)\n",
            "Requirement already satisfied: numpy<2,>=1.11.0 in /usr/local/lib/python3.11/dist-packages (from tomotopy) (1.26.4)\n"
          ]
        }
      ],
      "source": [
        "#!pip install numpy==1.26.4 tomotopy==0.13.0 pandas==2.2.2\n",
        "!pip install --upgrade tomotopy\n",
        "\n",
        "import tomotopy as tp\n",
        "import pandas as pd\n",
        "import numpy as np\n",
        "from datetime import datetime"
      ]
    },
    {
      "cell_type": "markdown",
      "metadata": {
        "id": "-luCInCqUWvA"
      },
      "source": [
        "#2) Labeled LDA"
      ]
    },
    {
      "cell_type": "code",
      "execution_count": 2,
      "metadata": {
        "colab": {
          "base_uri": "https://localhost:8080/"
        },
        "id": "MmnJotNBUYob",
        "outputId": "73ed474b-89a4-4d51-e611-1b01fbe8c2c3"
      },
      "outputs": [
        {
          "output_type": "stream",
          "name": "stdout",
          "text": [
            "## Tópico 'tecnología':\n",
            "permiten             0.0892  ████\n",
            "Los                  0.0892  ████\n",
            "rápido               0.0892  ████\n",
            "más                  0.0892  ████\n",
            "datos                0.0892  ████\n",
            "procesar             0.0892  ████\n",
            "artificial           0.0892  ████\n",
            "inteligencia         0.0892  ████\n",
            "en                   0.0892  ████\n",
            "avances              0.0892  ████\n",
            "\n",
            "## Tópico 'ciencia':\n",
            "a                    0.1097  █████\n",
            "Los                  0.1097  █████\n",
            "planeta              0.0551  ██\n",
            "complejos            0.0551  ██\n",
            "físicos              0.0551  ██\n",
            "fenómenos            0.0551  ██\n",
            "simular              0.0551  ██\n",
            "ayudan               0.0551  ██\n",
            "supercomputadores    0.0551  ██\n",
            "Tierra               0.0551  ██\n",
            "\n",
            "## Tópico 'medicina':\n",
            "nuevo                0.1380  ██████\n",
            "Un                   0.1380  ██████\n",
            "tratamiento          0.1380  ██████\n",
            "promete              0.1380  ██████\n",
            "curar                0.1380  ██████\n",
            "enfermedades         0.1380  ██████\n",
            "cardíacas            0.1380  ██████\n",
            "supercomputadores    0.0014  \n",
            "ayudan               0.0014  \n",
            "simular              0.0014  \n",
            "\n"
          ]
        }
      ],
      "source": [
        "# Crear modelo LLDA\n",
        "llda = tp.PLDAModel()\n",
        "\n",
        "# Datos de ejemplo con sus etiquetas\n",
        "documentos = [\n",
        "    (['tecnología'], 'Los nuevos avances en inteligencia artificial permiten procesar datos más rápido'),\n",
        "    (['ciencia'], 'Los científicos descubren un nuevo planeta similar a la Tierra'),\n",
        "    (['medicina'], 'Un nuevo tratamiento promete curar enfermedades cardíacas'),\n",
        "    (['tecnología', 'ciencia'], 'Los supercomputadores ayudan a simular fenómenos físicos complejos')\n",
        "]\n",
        "\n",
        "# Añadir documentos al modelo\n",
        "for labels, texto in documentos:\n",
        "    llda.add_doc(words=texto.split(), labels=labels)\n",
        "\n",
        "# Entrenar modelo\n",
        "llda.train(100)\n",
        "\n",
        "# Mostrar las palabras más relevantes para cada etiqueta (label)\n",
        "for i, label in enumerate(llda.topic_label_dict):\n",
        "    print(f\"## Tópico '{label}':\")\n",
        "    # Obtener palabras y sus pesos\n",
        "    for palabra, peso in llda.get_topic_words(i, top_n=10):\n",
        "        barra = \"█\" * int(peso * 50)  # Visualización del peso\n",
        "        print(f\"{palabra:<20} {peso:>6.4f}  {barra}\")  # Alineación fija\n",
        "    print()\n"
      ]
    },
    {
      "cell_type": "code",
      "source": [
        "text = \"La inteligencia artificial ayuda a los científicos a desarrollar nuevos medicamentos para curar enfermedades.\"\n",
        "doc = llda.make_doc(text.split())\n",
        "topicos = llda.infer(doc)[0]\n",
        "\n",
        "# Mostrar distribución para cada tópico\n",
        "for topico_idx, prob in enumerate(topicos):\n",
        "    etiqueta = llda.topic_label_dict[topico_idx]\n",
        "    barra = \"▓\" * int(prob * 50)\n",
        "    print(f\"{etiqueta}: {prob:.2%} {barra}\")\n",
        "    # Mostrar palabras más relevantes del tópico\n",
        "    palabras = [word for word, _ in llda.get_topic_words(topico_idx, top_n=3)]\n",
        "    print(f\"Palabras clave: {', '.join(palabras)}\\n\")"
      ],
      "metadata": {
        "id": "D4s2_4LBdkge",
        "outputId": "7c5c0824-8183-450a-a289-86fd11505d22",
        "colab": {
          "base_uri": "https://localhost:8080/"
        }
      },
      "execution_count": 4,
      "outputs": [
        {
          "output_type": "stream",
          "name": "stdout",
          "text": [
            "tecnología: 57.07% ▓▓▓▓▓▓▓▓▓▓▓▓▓▓▓▓▓▓▓▓▓▓▓▓▓▓▓▓\n",
            "Palabras clave: permiten, Los, rápido\n",
            "\n",
            "ciencia: 42.87% ▓▓▓▓▓▓▓▓▓▓▓▓▓▓▓▓▓▓▓▓▓\n",
            "Palabras clave: a, Los, planeta\n",
            "\n",
            "medicina: 0.06% \n",
            "Palabras clave: nuevo, Un, tratamiento\n",
            "\n"
          ]
        }
      ]
    },
    {
      "cell_type": "markdown",
      "metadata": {
        "id": "2PHfPo4XUdZw"
      },
      "source": [
        "#3) Dynamic Topic Model"
      ]
    },
    {
      "cell_type": "code",
      "execution_count": null,
      "metadata": {
        "id": "uzyzi80kUgWK"
      },
      "outputs": [],
      "source": [
        "import tomotopy as tp\n",
        "from datetime import datetime\n",
        "\n",
        "# Crear modelo dinámico (2 tópicos, 3 periodos de tiempo)\n",
        "dtm = tp.DTModel(k=2, t=3)  # k tópicos, 3 periodos de tiempo\n",
        "\n",
        "# Datos de ejemplo a través del tiempo\n",
        "documentos_tiempo = [\n",
        "    # 2020\n",
        "    (2020, 'La pandemia global afecta a millones de personas en todo el mundo'),\n",
        "    (2020, 'Los científicos trabajan en el desarrollo de vacunas'),\n",
        "    # 2021\n",
        "    (2021, 'Las campañas de vacunación avanzan en diferentes países'),\n",
        "    (2021, 'Nuevas variantes del virus preocupan a los expertos'),\n",
        "    # 2022\n",
        "    (2022, 'La población mundial alcanza altos niveles de inmunidad'),\n",
        "    (2022, 'Los países comienzan a levantar restricciones sanitarias')\n",
        "]\n",
        "\n",
        "# Añadir documentos\n",
        "for año, texto in documentos_tiempo:\n",
        "    # Calcular el timestep (0 para 2020, 1 para 2021, 2 para 2022)\n",
        "    timestep = año - 2020\n",
        "    # Añadir documento con su timestep correspondiente\n",
        "    dtm.add_doc(words=texto.split(), timepoint=timestep)\n",
        "\n",
        "# Entrenar modelo\n",
        "dtm.train(10)\n",
        "\n",
        "# Mostrar evolución de tópicos\n",
        "print(\"\\n Evolución de tópicos:\\n\")\n",
        "for topic in range(dtm.k):\n",
        "    print(f\"\\n Tópico {topic + 1}:\")\n",
        "    for t in range(dtm.num_timepoints):\n",
        "        año = 2020 + t\n",
        "        print(f\"\\n {año}:\")\n",
        "        # Mostrar palabras y sus pesos\n",
        "        for palabra, peso in dtm.get_topic_words(topic, timepoint=t, top_n=5):\n",
        "            barra = \"█\" * int(peso * 50)\n",
        "            print(f\"{palabra}: {peso:.4f} {barra}\")"
      ]
    }
  ],
  "metadata": {
    "colab": {
      "provenance": [],
      "include_colab_link": true
    },
    "kernelspec": {
      "display_name": "Python 3",
      "name": "python3"
    },
    "language_info": {
      "name": "python"
    }
  },
  "nbformat": 4,
  "nbformat_minor": 0
}